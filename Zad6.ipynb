{
 "cells": [
  {
   "attachments": {},
   "cell_type": "markdown",
   "metadata": {},
   "source": [
    "## Neuron   "
   ]
  },
  {
   "cell_type": "code",
   "execution_count": 18,
   "metadata": {},
   "outputs": [
    {
     "name": "stdout",
     "output_type": "stream",
     "text": [
      "Epoka [100/1000], Strata: 0.06781838089227676\n",
      "Epoka [200/1000], Strata: 0.035829950124025345\n",
      "Epoka [300/1000], Strata: 0.02459101192653179\n",
      "Epoka [400/1000], Strata: 0.018830839544534683\n",
      "Epoka [500/1000], Strata: 0.015315620228648186\n",
      "Epoka [600/1000], Strata: 0.012940707616508007\n",
      "Epoka [700/1000], Strata: 0.011225340887904167\n",
      "Epoka [800/1000], Strata: 0.009926262311637402\n",
      "Epoka [900/1000], Strata: 0.008907119743525982\n",
      "Epoka [1000/1000], Strata: 0.008085425943136215\n",
      "Dokładność: 1.0\n"
     ]
    }
   ],
   "source": [
    "import torch\n",
    "import torch.nn as nn\n",
    "import torch.optim as optim\n",
    "from sklearn import datasets\n",
    "from sklearn.model_selection import train_test_split\n",
    "\n",
    "# Załaduj dane Iris i wybierz dwie klasy (lubię i nie lubię kwiatów)\n",
    "iris = datasets.load_iris()\n",
    "X = iris.data\n",
    "y = iris.target\n",
    "X, y = X[y != 2], y[y != 2]\n",
    "\n",
    "# Podziel dane na zbiór treningowy i testowy\n",
    "X_train, X_test, y_train, y_test = train_test_split(X, y, test_size=0.2, random_state=42)\n",
    "\n",
    "# Zamień dane na tensory PyTorch\n",
    "X_train = torch.FloatTensor(X_train)\n",
    "y_train = torch.FloatTensor(y_train)\n",
    "X_test = torch.FloatTensor(X_test)\n",
    "y_test = torch.FloatTensor(y_test)\n",
    "\n",
    "# Zdefiniuj pojedynczy neuron i funkcję aktywacji\n",
    "class Neuron(nn.Module):\n",
    "    def __init__(self):\n",
    "        super(Neuron, self).__init__()\n",
    "        self.fc = nn.Linear(4, 1)  # Jedna warstwa liniowa, wejście: 4 cechy, wyjście: 1 neuron\n",
    "\n",
    "    def forward(self, x):\n",
    "        return torch.sigmoid(self.fc(x))  # Funkcja aktywacji: sigmoid\n",
    "\n",
    "# Zainicjuj model\n",
    "model = Neuron()\n",
    "\n",
    "# Definiuj funkcję straty i optymalizator\n",
    "criterion = nn.BCELoss()  # Binary Cross Entropy Loss (dla problemu binarnej klasyfikacji)\n",
    "optimizer = optim.SGD(model.parameters(), lr=0.1)  # Stochastic Gradient Descent\n",
    "\n",
    "# Trenuj model\n",
    "num_epochs = 1000\n",
    "for epoch in range(num_epochs):\n",
    "    outputs = model(X_train)\n",
    "    loss = criterion(outputs, y_train.view(-1, 1))\n",
    "    \n",
    "    optimizer.zero_grad()\n",
    "    loss.backward()\n",
    "    optimizer.step()\n",
    "\n",
    "    if (epoch + 1) % 100 == 0:\n",
    "        print(f'Epoka [{epoch + 1}/{num_epochs}], Strata: {loss.item()}')\n",
    "\n",
    "# Testuj model na danych testowych\n",
    "model.eval()\n",
    "with torch.no_grad():\n",
    "    y_pred = model(X_test)\n",
    "    y_pred = (y_pred > 0.5).float()  # Konwersja na 0 lub 1\n",
    "\n",
    "# Oblicz dokładność\n",
    "accuracy = torch.mean((y_pred == y_test.view(-1, 1)).float())\n",
    "print(f'Dokładność: {accuracy.item()}')\n"
   ]
  }
 ],
 "metadata": {
  "kernelspec": {
   "display_name": ".venv",
   "language": "python",
   "name": "python3"
  },
  "language_info": {
   "codemirror_mode": {
    "name": "ipython",
    "version": 3
   },
   "file_extension": ".py",
   "mimetype": "text/x-python",
   "name": "python",
   "nbconvert_exporter": "python",
   "pygments_lexer": "ipython3",
   "version": "3.9.13"
  },
  "orig_nbformat": 4
 },
 "nbformat": 4,
 "nbformat_minor": 2
}
