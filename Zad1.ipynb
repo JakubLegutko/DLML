{
 "cells": [
  {
   "cell_type": "code",
   "execution_count": 11,
   "metadata": {},
   "outputs": [
    {
     "name": "stdout",
     "output_type": "stream",
     "text": [
      "a:  [1 2 3]\n",
      "b:  [4 5 6]\n",
      "Typ danych:  int32\n",
      "Wymiar:  (3,)\n",
      "Ilość wymiarów:  1\n",
      "Typ:  <class 'numpy.ndarray'>\n",
      "Operacje na tensorze\n",
      "Dodawanie\n",
      "[5 7 9]\n",
      "Mnożenie\n",
      "[ 4 10 18]\n",
      "Mnożenie macierzowe\n",
      "32\n",
      "Slicing\n",
      "[2 3]\n",
      "[2 3]\n",
      "Reshape\n",
      "[[1]\n",
      " [2]\n",
      " [3]]\n",
      "Broadcasting\n",
      "[2 3 4]\n"
     ]
    }
   ],
   "source": [
    "## Matematyka w uczeniu głębokim\n",
    "\n",
    "### Zadanie 1\n",
    "import numpy as np\n",
    "\n",
    "a = np.array([1, 2, 3])\n",
    "b = np.array([4, 5, 6])\n",
    "print(\"a: \", a)\n",
    "print(\"b: \", b)\n",
    "## Typ danych\n",
    "print(\"Typ danych: \", a.dtype)\n",
    "\n",
    "## Wymiar\n",
    "print(\"Wymiar: \", a.shape)\n",
    "\n",
    "## Ilość wymiarów\n",
    "print(\"Ilość wymiarów: \", a.ndim)\n",
    "## Typ \n",
    "print(\"Typ: \", type(a))\n",
    "\n",
    "\n",
    "### Operacje na tensorze\n",
    "print(\"Operacje na tensorze\")\n",
    "## Dodawanie\n",
    "print(\"Dodawanie\")\n",
    "c = a + b\n",
    "print(c)\n",
    "## Mnożenie\n",
    "print(\"Mnożenie\")\n",
    "d = a * b\n",
    "print(d)\n",
    "## Mnożenie macierzowe\n",
    "print(\"Mnożenie macierzowe\")\n",
    "e = np.dot(a, b)\n",
    "print(e)\n",
    "## Slicing\n",
    "print(\"Slicing\")\n",
    "print(a[1:3])\n",
    "print(a[1:])\n",
    "## Reshape\n",
    "print(\"Reshape\")\n",
    "print(a.reshape(3, 1))\n",
    "## Broadcasting\n",
    "print(\"Broadcasting\")\n",
    "print(a + 1)\n",
    "\n",
    "\n"
   ]
  }
 ],
 "metadata": {
  "kernelspec": {
   "display_name": ".venv",
   "language": "python",
   "name": "python3"
  },
  "language_info": {
   "codemirror_mode": {
    "name": "ipython",
    "version": 3
   },
   "file_extension": ".py",
   "mimetype": "text/x-python",
   "name": "python",
   "nbconvert_exporter": "python",
   "pygments_lexer": "ipython3",
   "version": "3.9.13"
  },
  "orig_nbformat": 4
 },
 "nbformat": 4,
 "nbformat_minor": 2
}
