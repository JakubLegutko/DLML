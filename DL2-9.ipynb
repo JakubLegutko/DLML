{
 "cells": [
  {
   "cell_type": "code",
   "execution_count": 6,
   "metadata": {},
   "outputs": [
    {
     "name": "stdout",
     "output_type": "stream",
     "text": [
      "Original: [1 0 0 0]\n",
      "Reconstructed: [1 1 0 0]\n",
      "\n",
      "Original: [0 1 1 0]\n",
      "Reconstructed: [1 0 1 0]\n",
      "\n"
     ]
    }
   ],
   "source": [
    "import numpy as np\n",
    "\n",
    "def sigmoid(x):\n",
    "    return 1 / (1 + np.exp(-x))\n",
    "\n",
    "def gibbs_sampling(v, W, h_bias):\n",
    "    h_prob = sigmoid(np.dot(v, W) + h_bias)\n",
    "    h = (np.random.rand(*h_prob.shape) < h_prob).astype(float)\n",
    "    v_prob = sigmoid(np.dot(h, W.T) + v_bias)\n",
    "    v_sample = (np.random.rand(*v_prob.shape) < v_prob).astype(float)\n",
    "    return v_sample\n",
    "\n",
    "def contrastive_divergence(v0, W, h_bias, k=1, learning_rate=0.1):\n",
    "    v = v0\n",
    "    v_bias = np.zeros(v.shape)\n",
    "    h0_prob = sigmoid(np.dot(v, W) + h_bias)\n",
    "    h0 = (np.random.rand(*h0_prob.shape) < h0_prob).astype(float)\n",
    "\n",
    "    v_k = v\n",
    "    for _ in range(k):\n",
    "        v_k = gibbs_sampling(v_k, W, 0)  # 0 bias for visible layer during Gibbs sampling\n",
    "\n",
    "    h_k_prob = sigmoid(np.dot(v_k, W) + h_bias)\n",
    "    h_k = (np.random.rand(*h_k_prob.shape) < h_k_prob).astype(float)\n",
    "\n",
    "    # Update weights and biases\n",
    "    dW = np.outer(v0, h0) - np.outer(v_k, h_k)\n",
    "    dv_bias = v0 - v_k\n",
    "    dh_bias = h0 - h_k\n",
    "\n",
    "    W += learning_rate * dW\n",
    "    v_bias += learning_rate * dv_bias\n",
    "    h_bias += learning_rate * dh_bias\n",
    "\n",
    "# Example usage\n",
    "# Define RBM parameters\n",
    "num_visible = 4\n",
    "num_hidden = 2\n",
    "W = np.random.rand(num_visible, num_hidden)\n",
    "v_bias = np.zeros(num_visible)\n",
    "h_bias = np.zeros(num_hidden)\n",
    "\n",
    "# Training data (binary values)\n",
    "data = np.array([[1, 0, 1, 0],\n",
    "                 [1, 1, 0, 0],\n",
    "                 [0, 0, 1, 1]])\n",
    "\n",
    "# Training using Contrastive Divergence\n",
    "epochs = 1000\n",
    "learning_rate = 0.1\n",
    "for epoch in range(epochs):\n",
    "    for v0 in data:\n",
    "        contrastive_divergence(v0, W, h_bias, k=1, learning_rate=learning_rate)\n",
    "\n",
    "# Testing\n",
    "test_data = np.array([[1, 0, 0, 0],\n",
    "                      [0, 1, 1, 0]])\n",
    "\n",
    "for v0 in test_data:\n",
    "    h_prob = sigmoid(np.dot(v0, W) + h_bias)\n",
    "    h_sample = (np.random.rand(*h_prob.shape) < h_prob).astype(float)\n",
    "    reconstructed_v = sigmoid(np.dot(h_sample, W.T) + v_bias)\n",
    "    print(\"Original:\", v0)\n",
    "    print(\"Reconstructed:\", (reconstructed_v > 0.5).astype(int))\n",
    "    print()\n"
   ]
  }
 ],
 "metadata": {
  "kernelspec": {
   "display_name": ".venv",
   "language": "python",
   "name": "python3"
  },
  "language_info": {
   "codemirror_mode": {
    "name": "ipython",
    "version": 3
   },
   "file_extension": ".py",
   "mimetype": "text/x-python",
   "name": "python",
   "nbconvert_exporter": "python",
   "pygments_lexer": "ipython3",
   "version": "3.9.13"
  },
  "orig_nbformat": 4
 },
 "nbformat": 4,
 "nbformat_minor": 2
}
